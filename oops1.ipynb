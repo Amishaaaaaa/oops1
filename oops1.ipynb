{
 "cells": [
  {
   "cell_type": "markdown",
   "id": "615f447f-abc9-42e7-a3f2-2a1aeefc1359",
   "metadata": {},
   "source": [
    "'''Q1. Explain Class and Object with respect to Object-Oriented Programming. Give a suitable example.'''\n",
    "\n",
    "'''In object-oriented programming (OOP), a class is a blueprint or template that defines the structure and behavior of objects. It is a programming construct that encapsulates data (attributes) and methods (functions) related to a specific concept or entity. An object, on the other hand, is an instance of a class. It represents a specific occurrence or realization of the class, with its own unique data values for the attributes defined in the class.'''"
   ]
  },
  {
   "cell_type": "markdown",
   "id": "3313a05c-bcc0-4d39-97ff-2c4de60243e5",
   "metadata": {},
   "source": [
    "'''Q2. Name the four pillars of OOPs.'''\n",
    "\n",
    "'''Encapsulation: Encapsulation refers to the bundling of data (attributes) and methods (functions) together into a single unit called a class. It allows data to be hidden and protected from outside access, and only specific methods within the class can interact with the data. Encapsulation provides data abstraction and helps in achieving data security and integrity.\n",
    "\n",
    "Inheritance: Inheritance enables the creation of new classes (derived classes) based on existing classes (base classes or parent classes). The derived classes inherit the properties and behaviors of the base class, allowing code reuse and the extension of existing functionality. Inheritance promotes code reusability, modularity, and the hierarchical organization of classes.\n",
    "\n",
    "Polymorphism: Polymorphism allows objects of different classes to be treated as objects of a common superclass. It refers to the ability of an object to take on many forms or have multiple behaviors depending on the context. Polymorphism allows methods to be overridden in derived classes, enabling them to provide their own implementation while maintaining the same method signature as the base class. This feature simplifies code management and promotes flexibility and extensibility.\n",
    "\n",
    "Abstraction: Abstraction involves representing complex real-world entities as simplified models within a program. It focuses on hiding unnecessary details and exposing only essential features and behaviors. Abstraction provides a high-level view of an object or system, allowing programmers to work with concepts and operations relevant to their current task without being concerned about the underlying implementation. It enhances code maintainability, reduces complexity, and promotes code modularity.'''\n"
   ]
  },
  {
   "cell_type": "markdown",
   "id": "f516a1f3-7be5-4471-9660-177b7b11e53d",
   "metadata": {},
   "source": [
    "Q3. Explain why the __init__() function is used. Give a suitable example.\n",
    "\n",
    "\n",
    "The __init__() function, also known as the constructor, is a special method in Python classes. It is automatically called when an object is created from a class. The primary purpose of the __init__() function is to initialize the attributes of the object and perform any necessary setup or configuration."
   ]
  },
  {
   "cell_type": "markdown",
   "id": "28c39e65-90ab-48a8-894f-9ece9c40b0cf",
   "metadata": {},
   "source": [
    "Q4. Why self is used in OOPs?\n",
    "\n",
    "In object-oriented programming (OOP), self is a conventional name used as a reference to the instance of a class within its own methods. It acts as a placeholder for the specific object that the method is being called on. The use of self is important in OOP for the following reasons:\n",
    "\n",
    "Accessing instance attributes and methods: Within a class method, self is used to access and manipulate the instance attributes and invoke other instance methods. It allows the method to refer to the specific instance of the class on which the method is called. Without self, the method would not know which instance's attributes or methods to refer to, leading to ambiguity and incorrect behavior.\n",
    "\n",
    "Differentiating between instance and local variables: self helps in distinguishing between instance variables (attributes) and local variables within a method. When an attribute is accessed using self.attribute_name, it refers to the instance variable, whereas a local variable is accessed without self. This distinction is necessary to avoid confusion and ensure that the correct variable is being accessed or modified.\n",
    "\n",
    "Enabling method invocation on objects: By using self as the first parameter in class methods, it allows those methods to be called on objects. When a method is invoked on an object, the object itself is automatically passed as the self parameter, indicating that the method is acting on that particular instance.\n",
    "\n",
    "Supporting code readability and maintainability: The use of self in OOP code improves readability and helps in understanding the relationships and interactions between classes and their instances. It clearly indicates when an attribute or method belongs to an instance and provides a consistent and standardized way of referring to instance-specific elements in the code."
   ]
  },
  {
   "cell_type": "code",
   "execution_count": 3,
   "id": "fd97736d-4494-4d33-8b46-b62706276127",
   "metadata": {},
   "outputs": [
    {
     "name": "stdout",
     "output_type": "stream",
     "text": [
      "Buddy\n",
      "Animal speaks.\n",
      "Dog barks.\n",
      "Bird flies.\n",
      "Mammal runs.\n",
      "Vehicle moves.\n",
      "Car starts.\n",
      "Sedan accelerates.\n"
     ]
    }
   ],
   "source": [
    "'''Q5. What is inheritance? Give an example for each type of inheritance.\n",
    "\n",
    "Inheritance is a fundamental concept in object-oriented programming (OOP) that allows the creation of new classes (derived classes or subclasses) \n",
    "based on existing classes (base classes or parent classes). It enables the derived classes to inherit the properties, attributes, and behaviors of the\n",
    "base class, thereby promoting code reuse, modularity, and the extension of existing functionality.\n",
    "'''\n",
    "#Single Inheritance\n",
    "class Animal:\n",
    "    def __init__(self, name):\n",
    "        self.name = name\n",
    "\n",
    "    def speak(self):\n",
    "        print(\"Animal speaks.\")\n",
    "\n",
    "class Dog(Animal):\n",
    "    def bark(self):\n",
    "        print(\"Dog barks.\")\n",
    "\n",
    "dog = Dog(\"Buddy\")\n",
    "\n",
    "print(dog.name)  \n",
    "dog.speak()  \n",
    "dog.bark()  \n",
    "\n",
    "\n",
    "#Multiple inheritance\n",
    "class Bird:\n",
    "    def fly(self):\n",
    "        print(\"Bird flies.\")\n",
    "\n",
    "class Mammal:\n",
    "    def run(self):\n",
    "        print(\"Mammal runs.\")\n",
    "\n",
    "class Bat(Bird, Mammal):\n",
    "    pass\n",
    "\n",
    "bat = Bat()\n",
    "\n",
    "bat.fly()  \n",
    "bat.run()  \n",
    "\n",
    "#multilevel inheritance\n",
    "class Vehicle:\n",
    "    def move(self):\n",
    "        print(\"Vehicle moves.\")\n",
    "\n",
    "class Car(Vehicle):\n",
    "    def start(self):\n",
    "        print(\"Car starts.\")\n",
    "\n",
    "class Sedan(Car):\n",
    "    def accelerate(self):\n",
    "        print(\"Sedan accelerates.\")\n",
    "\n",
    "sedan = Sedan()\n",
    "\n",
    "sedan.move() \n",
    "sedan.start()\n",
    "sedan.accelerate()\n"
   ]
  },
  {
   "cell_type": "code",
   "execution_count": null,
   "id": "494acf96-adfb-4035-ac07-d4f225fc5755",
   "metadata": {},
   "outputs": [],
   "source": []
  }
 ],
 "metadata": {
  "kernelspec": {
   "display_name": "Python 3 (ipykernel)",
   "language": "python",
   "name": "python3"
  },
  "language_info": {
   "codemirror_mode": {
    "name": "ipython",
    "version": 3
   },
   "file_extension": ".py",
   "mimetype": "text/x-python",
   "name": "python",
   "nbconvert_exporter": "python",
   "pygments_lexer": "ipython3",
   "version": "3.10.8"
  }
 },
 "nbformat": 4,
 "nbformat_minor": 5
}
